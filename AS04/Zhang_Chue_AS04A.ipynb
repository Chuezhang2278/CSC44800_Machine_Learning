{
 "cells": [
  {
   "cell_type": "code",
   "execution_count": 1,
   "metadata": {},
   "outputs": [],
   "source": [
    "import numpy as np\n",
    "import matplotlib.pyplot as plt\n",
    "import pandas as pd\n",
    "from sklearn import datasets\n",
    "from sklearn.svm import SVC\n",
    "from sklearn.model_selection import train_test_split\n",
    "from sklearn.metrics import classification_report\n",
    "\n",
    "# SIDE NOTES\n",
    "# My work may or may not be correct, please double check before using\n",
    "\n",
    "# 0 = Iris-Setosa\n",
    "# 1 = Iris-Versicolor\n",
    "# 2 = Iris-Virginica"
   ]
  },
  {
   "cell_type": "code",
   "execution_count": 2,
   "metadata": {},
   "outputs": [],
   "source": [
    "iris = datasets.load_iris()\n",
    "X = iris.data\n",
    "y = iris.target"
   ]
  },
  {
   "cell_type": "code",
   "execution_count": 3,
   "metadata": {},
   "outputs": [],
   "source": [
    "X_train, X_test, y_train, y_test = train_test_split(X, y, test_size = 0.30)"
   ]
  },
  {
   "cell_type": "markdown",
   "metadata": {},
   "source": [
    "# Linear Kernel"
   ]
  },
  {
   "cell_type": "code",
   "execution_count": 4,
   "metadata": {},
   "outputs": [
    {
     "name": "stdout",
     "output_type": "stream",
     "text": [
      "              precision    recall  f1-score   support\n",
      "\n",
      "           0       1.00      1.00      1.00        15\n",
      "           1       1.00      0.93      0.97        15\n",
      "           2       0.94      1.00      0.97        15\n",
      "\n",
      "    accuracy                           0.98        45\n",
      "   macro avg       0.98      0.98      0.98        45\n",
      "weighted avg       0.98      0.98      0.98        45\n",
      "\n",
      "0.9777777777777777\n"
     ]
    }
   ],
   "source": [
    "linear_svclassifier = SVC(kernel='linear', gamma = 'auto', degree = 8) \n",
    "linear_svclassifier.fit(X_train, y_train)\n",
    "y_pred = linear_svclassifier.predict(X_test)\n",
    "print(classification_report(y_test, y_pred))\n",
    "data = linear_svclassifier.score(X_test, y_test)\n",
    "print(data)"
   ]
  },
  {
   "cell_type": "markdown",
   "metadata": {},
   "source": [
    "# RBF kernel"
   ]
  },
  {
   "cell_type": "code",
   "execution_count": 5,
   "metadata": {
    "scrolled": true
   },
   "outputs": [
    {
     "name": "stdout",
     "output_type": "stream",
     "text": [
      "              precision    recall  f1-score   support\n",
      "\n",
      "           0       1.00      1.00      1.00        15\n",
      "           1       1.00      1.00      1.00        15\n",
      "           2       1.00      1.00      1.00        15\n",
      "\n",
      "    accuracy                           1.00        45\n",
      "   macro avg       1.00      1.00      1.00        45\n",
      "weighted avg       1.00      1.00      1.00        45\n",
      "\n",
      "1.0\n"
     ]
    }
   ],
   "source": [
    "RBF_svclassifier = SVC(kernel='rbf', gamma = 'auto', random_state = 0, degree = 8)\n",
    "RBF_svclassifier.fit(X_train, y_train)\n",
    "y_pred = RBF_svclassifier.predict(X_test)\n",
    "print(classification_report(y_test, y_pred))\n",
    "data = RBF_svclassifier.score(X_test, y_test)\n",
    "print(data)"
   ]
  },
  {
   "cell_type": "markdown",
   "metadata": {},
   "source": [
    "# Poly kernel"
   ]
  },
  {
   "cell_type": "code",
   "execution_count": 6,
   "metadata": {},
   "outputs": [
    {
     "name": "stdout",
     "output_type": "stream",
     "text": [
      "              precision    recall  f1-score   support\n",
      "\n",
      "           0       1.00      1.00      1.00        15\n",
      "           1       0.79      0.73      0.76        15\n",
      "           2       0.75      0.80      0.77        15\n",
      "\n",
      "    accuracy                           0.84        45\n",
      "   macro avg       0.85      0.84      0.84        45\n",
      "weighted avg       0.85      0.84      0.84        45\n",
      "\n",
      "accuracy of: 0.8444444444444444\n"
     ]
    }
   ],
   "source": [
    "poly_svclassifier = SVC(kernel='poly', gamma = 'auto', random_state = 0, degree = 8)\n",
    "poly_svclassifier.fit(X_train, y_train)\n",
    "y_pred = poly_svclassifier.predict(X_test)\n",
    "print(classification_report(y_test, y_pred))\n",
    "data = poly_svclassifier.score(X_test, y_test)\n",
    "print(\"accuracy of:\", data)"
   ]
  },
  {
   "cell_type": "markdown",
   "metadata": {},
   "source": [
    "# Precomputed kernel"
   ]
  },
  {
   "cell_type": "code",
   "execution_count": 7,
   "metadata": {},
   "outputs": [
    {
     "name": "stdout",
     "output_type": "stream",
     "text": [
      "              precision    recall  f1-score   support\n",
      "\n",
      "           0       1.00      1.00      1.00        15\n",
      "           1       1.00      0.93      0.97        15\n",
      "           2       0.94      1.00      0.97        15\n",
      "\n",
      "    accuracy                           0.98        45\n",
      "   macro avg       0.98      0.98      0.98        45\n",
      "weighted avg       0.98      0.98      0.98        45\n",
      "\n",
      "accuracy of: 0.9777777777777777\n"
     ]
    }
   ],
   "source": [
    "PRE_svclassifier = SVC(kernel='precomputed', gamma = 'auto', random_state = 0, degree = 8)\n",
    "kernal_train = np.dot(X_train, X_train.T)\n",
    "kernel_test = np.dot(X_test, X_train.T)\n",
    "PRE_svclassifier.fit(kernal_train, y_train)\n",
    "y_pred = PRE_svclassifier.predict(kernel_test)\n",
    "print(classification_report(y_test, y_pred))\n",
    "data = PRE_svclassifier.score(kernel_test, y_test)\n",
    "print(\"accuracy of:\", data)"
   ]
  },
  {
   "cell_type": "markdown",
   "metadata": {},
   "source": [
    "# Discussion"
   ]
  },
  {
   "cell_type": "markdown",
   "metadata": {},
   "source": [
    "In this assignment, we apply SKlearn's support vector machine onto the iris dataset. I used 4 different types of kernels, \"linear kernel\", \"gaussian kernel\", \"polynomial kernel\" and the \"precomputed kernel\". Running the iris dataset into each kernel, i discovered that the accuracy for for each kernel differed and could change upon rerunning the program.\n",
    "\n",
    "I discovered that the purpose of using different kernels is so that we can accomodate for the randomness in the dataset, so that we can map out the data-points more easily so training can be done more efficiently. In our data shown above, we can notice that precomputed and linear model has 0.97/0.98 accuracy which shows that the classification of the data set could be linear. Furthermore, in our gaussian kernel, we have a 1 accuracy which means that the trend of the dataset follows a gaussian model compleely and not a polynomial model which has the lowest accuracy, 0.84."
   ]
  },
  {
   "cell_type": "code",
   "execution_count": null,
   "metadata": {},
   "outputs": [],
   "source": []
  }
 ],
 "metadata": {
  "kernelspec": {
   "display_name": "Python 3",
   "language": "python",
   "name": "python3"
  },
  "language_info": {
   "codemirror_mode": {
    "name": "ipython",
    "version": 3
   },
   "file_extension": ".py",
   "mimetype": "text/x-python",
   "name": "python",
   "nbconvert_exporter": "python",
   "pygments_lexer": "ipython3",
   "version": "3.7.3"
  }
 },
 "nbformat": 4,
 "nbformat_minor": 1
}
