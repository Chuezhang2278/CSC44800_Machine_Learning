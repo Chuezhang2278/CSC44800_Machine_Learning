{
 "cells": [
  {
   "cell_type": "code",
   "execution_count": 1,
   "metadata": {},
   "outputs": [],
   "source": [
    "from riotwatcher import LolWatcher, ApiError\n",
    "import pandas as pd\n",
    "\n",
    "api_key = 'RGAPI-887a80ea-37e1-449c-858c-f3dd59dc96e6'\n",
    "watcher = LolWatcher(api_key)\n",
    "my_region = 'na1'\n",
    "\n",
    "me = watcher.summoner.by_name(my_region, 'Desuuuuuuuuuu')\n",
    "\n",
    "latest = watcher.data_dragon.versions_for_region(my_region)['n']['champion']\n",
    "static_champ_list = watcher.data_dragon.champions(latest, False, 'en_US')\n",
    "my_matches = watcher.match.matchlist_by_account(my_region, me['accountId'])"
   ]
  },
  {
   "cell_type": "code",
   "execution_count": 8,
   "metadata": {},
   "outputs": [],
   "source": [
    "def matchHistory(num):\n",
    "    #==== just getting the match details, ranges from 0th - 99th match hence \"num\" ====#\n",
    "    last_match = my_matches['matches'][num]\n",
    "    match_detail = watcher.match.by_id(my_region, last_match['gameId'])\n",
    "    #==== just getting the match details, ranges from 0th - 99th match hence \"num\" ====#\n",
    "    \n",
    "    participantsID = []\n",
    "    \n",
    "    #==== match_detail has to be looked through in a for loop because it is a list ====#\n",
    "    for r_name in match_detail['participantIdentities']:\n",
    "    #==== match_detail has to be looked through in a for loop because it is a list ====#\n",
    "    \n",
    "        participants = []\n",
    "        for row in match_detail['participants']:\n",
    "            #==== Im doing this so sift out my play info only, not the entire teams ====#\n",
    "            if(r_name['player']['summonerName'] == \"Desuuuuuuuuuu\"):\n",
    "            #==== Im doing this so sift out my play info only, not the entire teams ====#\n",
    "                p_name = {}\n",
    "                p_name['name'] = r_name['player']['summonerName']\n",
    "                \n",
    "                participants_row = {}\n",
    "                \n",
    "                #==== from match_details, i am using teams and inside teams, the amount of dragons killed====#\n",
    "                for temp in match_detail['teams']:\n",
    "                    if(r_name['player']['summonerName'] == \"Desuuuuuuuuuu\"):\n",
    "                        participants_row['dragon kills'] = temp['dragonKills']\n",
    "                 #==== from match_details, i am using teams and inside teams, the amount of dragons killed====#\n",
    "                        \n",
    "                #==== from match_details, i am using gameDuration ====#\n",
    "                g = match_detail['gameDuration']/60\n",
    "                participants_row['game duration'] = \"{:.2f}\".format(g)\n",
    "                #==== from match_details, i am using gameDuration ====#\n",
    "                \n",
    "                #==== getting info from match_detail['stats'] ====#\n",
    "                participants_row['turret kills'] = row['stats']['turretKills']\n",
    "                participants_row['inhibitor kills'] = row['stats']['inhibitorKills']\n",
    "                participants_row['gold earned'] = row['stats']['goldEarned']\n",
    "                participants_row['first blood'] = row['stats']['firstBloodKill']\n",
    "                participants_row['champion'] = row['championId']\n",
    "                participants_row['kills'] = row['stats']['kills']\n",
    "                participants_row['win'] = row['stats']['win']\n",
    "                participants_row['deaths'] = row['stats']['deaths']\n",
    "                participants_row['kill assists'] = row['stats']['assists']\n",
    "                participants_row['total Damage Dealt'] = row['stats']['totalDamageDealt']\n",
    "                participants_row['total Minions Killed'] = row['stats']['totalMinionsKilled']\n",
    "                #==== getting info from match_detail['stats'] ====#\n",
    "                \n",
    "                participants.append(participants_row)\n",
    "                participantsID.append(p_name)\n",
    "                \n",
    "                #==== Champions come in id form so this helps to convert it to string ====# \n",
    "                champ_dict = {}\n",
    "                for key in static_champ_list['data']:\n",
    "                    row = static_champ_list['data'][key]\n",
    "                    champ_dict[row['key']] = row['id']\n",
    "                for row in participants:\n",
    "                    row['champion'] = champ_dict[str(row['champion'])]    \n",
    "                #==== Champions come in id form so this helps to convert it to string ====# \n",
    "                \n",
    "                df = pd.DataFrame(participants)\n",
    "                dg = pd.DataFrame(participantsID)\n",
    "                \n",
    "                df_conc = pd.concat([dg,df], axis = 1, sort = False)\n",
    "                return df_conc"
   ]
  },
  {
   "cell_type": "code",
   "execution_count": 9,
   "metadata": {
    "scrolled": false
   },
   "outputs": [
    {
     "data": {
      "text/html": [
       "<div>\n",
       "<style scoped>\n",
       "    .dataframe tbody tr th:only-of-type {\n",
       "        vertical-align: middle;\n",
       "    }\n",
       "\n",
       "    .dataframe tbody tr th {\n",
       "        vertical-align: top;\n",
       "    }\n",
       "\n",
       "    .dataframe thead th {\n",
       "        text-align: right;\n",
       "    }\n",
       "</style>\n",
       "<table border=\"1\" class=\"dataframe\">\n",
       "  <thead>\n",
       "    <tr style=\"text-align: right;\">\n",
       "      <th></th>\n",
       "      <th>name</th>\n",
       "      <th>champion</th>\n",
       "      <th>deaths</th>\n",
       "      <th>dragon kills</th>\n",
       "      <th>first blood</th>\n",
       "      <th>game duration</th>\n",
       "      <th>gold earned</th>\n",
       "      <th>inhibitor kills</th>\n",
       "      <th>kill assists</th>\n",
       "      <th>kills</th>\n",
       "      <th>total Damage Dealt</th>\n",
       "      <th>total Minions Killed</th>\n",
       "      <th>turret kills</th>\n",
       "      <th>win</th>\n",
       "    </tr>\n",
       "  </thead>\n",
       "  <tbody>\n",
       "    <tr>\n",
       "      <th>0</th>\n",
       "      <td>Desuuuuuuuuuu</td>\n",
       "      <td>Shaco</td>\n",
       "      <td>2</td>\n",
       "      <td>1</td>\n",
       "      <td>False</td>\n",
       "      <td>11.80</td>\n",
       "      <td>5201</td>\n",
       "      <td>0</td>\n",
       "      <td>1</td>\n",
       "      <td>2</td>\n",
       "      <td>14541</td>\n",
       "      <td>29</td>\n",
       "      <td>0</td>\n",
       "      <td>False</td>\n",
       "    </tr>\n",
       "    <tr>\n",
       "      <th>1</th>\n",
       "      <td>Desuuuuuuuuuu</td>\n",
       "      <td>Aatrox</td>\n",
       "      <td>7</td>\n",
       "      <td>0</td>\n",
       "      <td>False</td>\n",
       "      <td>24.20</td>\n",
       "      <td>14146</td>\n",
       "      <td>1</td>\n",
       "      <td>16</td>\n",
       "      <td>6</td>\n",
       "      <td>120293</td>\n",
       "      <td>94</td>\n",
       "      <td>2</td>\n",
       "      <td>False</td>\n",
       "    </tr>\n",
       "    <tr>\n",
       "      <th>2</th>\n",
       "      <td>Desuuuuuuuuuu</td>\n",
       "      <td>Sona</td>\n",
       "      <td>8</td>\n",
       "      <td>0</td>\n",
       "      <td>False</td>\n",
       "      <td>16.37</td>\n",
       "      <td>6297</td>\n",
       "      <td>0</td>\n",
       "      <td>2</td>\n",
       "      <td>2</td>\n",
       "      <td>25997</td>\n",
       "      <td>42</td>\n",
       "      <td>0</td>\n",
       "      <td>False</td>\n",
       "    </tr>\n",
       "    <tr>\n",
       "      <th>3</th>\n",
       "      <td>Desuuuuuuuuuu</td>\n",
       "      <td>Singed</td>\n",
       "      <td>4</td>\n",
       "      <td>2</td>\n",
       "      <td>False</td>\n",
       "      <td>24.78</td>\n",
       "      <td>14992</td>\n",
       "      <td>1</td>\n",
       "      <td>15</td>\n",
       "      <td>9</td>\n",
       "      <td>104656</td>\n",
       "      <td>116</td>\n",
       "      <td>3</td>\n",
       "      <td>True</td>\n",
       "    </tr>\n",
       "    <tr>\n",
       "      <th>4</th>\n",
       "      <td>Desuuuuuuuuuu</td>\n",
       "      <td>Hecarim</td>\n",
       "      <td>5</td>\n",
       "      <td>1</td>\n",
       "      <td>False</td>\n",
       "      <td>24.53</td>\n",
       "      <td>17305</td>\n",
       "      <td>0</td>\n",
       "      <td>14</td>\n",
       "      <td>13</td>\n",
       "      <td>133680</td>\n",
       "      <td>97</td>\n",
       "      <td>3</td>\n",
       "      <td>True</td>\n",
       "    </tr>\n",
       "    <tr>\n",
       "      <th>5</th>\n",
       "      <td>Desuuuuuuuuuu</td>\n",
       "      <td>Leblanc</td>\n",
       "      <td>5</td>\n",
       "      <td>1</td>\n",
       "      <td>False</td>\n",
       "      <td>26.03</td>\n",
       "      <td>9923</td>\n",
       "      <td>0</td>\n",
       "      <td>3</td>\n",
       "      <td>3</td>\n",
       "      <td>56030</td>\n",
       "      <td>64</td>\n",
       "      <td>0</td>\n",
       "      <td>False</td>\n",
       "    </tr>\n",
       "    <tr>\n",
       "      <th>6</th>\n",
       "      <td>Desuuuuuuuuuu</td>\n",
       "      <td>Fiddlesticks</td>\n",
       "      <td>1</td>\n",
       "      <td>0</td>\n",
       "      <td>False</td>\n",
       "      <td>14.77</td>\n",
       "      <td>10890</td>\n",
       "      <td>0</td>\n",
       "      <td>5</td>\n",
       "      <td>9</td>\n",
       "      <td>61129</td>\n",
       "      <td>55</td>\n",
       "      <td>1</td>\n",
       "      <td>True</td>\n",
       "    </tr>\n",
       "    <tr>\n",
       "      <th>7</th>\n",
       "      <td>Desuuuuuuuuuu</td>\n",
       "      <td>Lux</td>\n",
       "      <td>19</td>\n",
       "      <td>3</td>\n",
       "      <td>False</td>\n",
       "      <td>29.03</td>\n",
       "      <td>12077</td>\n",
       "      <td>0</td>\n",
       "      <td>8</td>\n",
       "      <td>9</td>\n",
       "      <td>48727</td>\n",
       "      <td>29</td>\n",
       "      <td>0</td>\n",
       "      <td>False</td>\n",
       "    </tr>\n",
       "    <tr>\n",
       "      <th>8</th>\n",
       "      <td>Desuuuuuuuuuu</td>\n",
       "      <td>Talon</td>\n",
       "      <td>4</td>\n",
       "      <td>0</td>\n",
       "      <td>False</td>\n",
       "      <td>16.58</td>\n",
       "      <td>13193</td>\n",
       "      <td>0</td>\n",
       "      <td>7</td>\n",
       "      <td>18</td>\n",
       "      <td>51723</td>\n",
       "      <td>34</td>\n",
       "      <td>0</td>\n",
       "      <td>True</td>\n",
       "    </tr>\n",
       "    <tr>\n",
       "      <th>9</th>\n",
       "      <td>Desuuuuuuuuuu</td>\n",
       "      <td>Nunu</td>\n",
       "      <td>6</td>\n",
       "      <td>1</td>\n",
       "      <td>False</td>\n",
       "      <td>35.00</td>\n",
       "      <td>20740</td>\n",
       "      <td>0</td>\n",
       "      <td>13</td>\n",
       "      <td>14</td>\n",
       "      <td>115776</td>\n",
       "      <td>74</td>\n",
       "      <td>1</td>\n",
       "      <td>False</td>\n",
       "    </tr>\n",
       "  </tbody>\n",
       "</table>\n",
       "</div>"
      ],
      "text/plain": [
       "            name      champion  deaths  dragon kills  first blood  \\\n",
       "0  Desuuuuuuuuuu         Shaco       2             1        False   \n",
       "1  Desuuuuuuuuuu        Aatrox       7             0        False   \n",
       "2  Desuuuuuuuuuu          Sona       8             0        False   \n",
       "3  Desuuuuuuuuuu        Singed       4             2        False   \n",
       "4  Desuuuuuuuuuu       Hecarim       5             1        False   \n",
       "5  Desuuuuuuuuuu       Leblanc       5             1        False   \n",
       "6  Desuuuuuuuuuu  Fiddlesticks       1             0        False   \n",
       "7  Desuuuuuuuuuu           Lux      19             3        False   \n",
       "8  Desuuuuuuuuuu         Talon       4             0        False   \n",
       "9  Desuuuuuuuuuu          Nunu       6             1        False   \n",
       "\n",
       "  game duration  gold earned  inhibitor kills  kill assists  kills  \\\n",
       "0         11.80         5201                0             1      2   \n",
       "1         24.20        14146                1            16      6   \n",
       "2         16.37         6297                0             2      2   \n",
       "3         24.78        14992                1            15      9   \n",
       "4         24.53        17305                0            14     13   \n",
       "5         26.03         9923                0             3      3   \n",
       "6         14.77        10890                0             5      9   \n",
       "7         29.03        12077                0             8      9   \n",
       "8         16.58        13193                0             7     18   \n",
       "9         35.00        20740                0            13     14   \n",
       "\n",
       "   total Damage Dealt  total Minions Killed  turret kills    win  \n",
       "0               14541                    29             0  False  \n",
       "1              120293                    94             2  False  \n",
       "2               25997                    42             0  False  \n",
       "3              104656                   116             3   True  \n",
       "4              133680                    97             3   True  \n",
       "5               56030                    64             0  False  \n",
       "6               61129                    55             1   True  \n",
       "7               48727                    29             0  False  \n",
       "8               51723                    34             0   True  \n",
       "9              115776                    74             1  False  "
      ]
     },
     "execution_count": 9,
     "metadata": {},
     "output_type": "execute_result"
    }
   ],
   "source": [
    "#==== VIEW MY DATASET BEFORE EXPORT ====#\n",
    "\n",
    "y = pd.DataFrame()\n",
    "for i in range(10):\n",
    "    z = pd.DataFrame(data = matchHistory(i))\n",
    "    y = pd.concat([z,y])\n",
    "y.reset_index(drop = True, inplace = True)\n",
    "y"
   ]
  },
  {
   "cell_type": "code",
   "execution_count": 11,
   "metadata": {
    "scrolled": true
   },
   "outputs": [],
   "source": [
    "p = pd.DataFrame()\n",
    "for i in range(100):   \n",
    "    d = pd.DataFrame(data = matchHistory(i))\n",
    "    p = pd.concat([d,p])\n",
    "p.reset_index(drop = True, inplace = True)\n",
    "p.to_csv('league.csv', index = False)"
   ]
  },
  {
   "cell_type": "markdown",
   "metadata": {},
   "source": [
    "# Training dataset\n"
   ]
  },
  {
   "cell_type": "code",
   "execution_count": 64,
   "metadata": {},
   "outputs": [],
   "source": [
    "%matplotlib inline\n",
    "import matplotlib.pyplot as plt\n",
    "import seaborn as sns\n",
    "from sklearn.model_selection import train_test_split\n",
    "from sklearn.linear_model import LogisticRegression\n",
    "from sklearn.metrics import classification_report\n",
    "data = pd.read_csv('league.csv')"
   ]
  },
  {
   "cell_type": "markdown",
   "metadata": {},
   "source": [
    "## Using Kills and Kill assists to determine accuracy"
   ]
  },
  {
   "cell_type": "code",
   "execution_count": 60,
   "metadata": {},
   "outputs": [
    {
     "name": "stdout",
     "output_type": "stream",
     "text": [
      "              precision    recall  f1-score   support\n",
      "\n",
      "       False       0.62      0.50      0.56        20\n",
      "        True       0.41      0.54      0.47        13\n",
      "\n",
      "    accuracy                           0.52        33\n",
      "   macro avg       0.52      0.52      0.51        33\n",
      "weighted avg       0.54      0.52      0.52        33\n",
      "\n"
     ]
    }
   ],
   "source": [
    "X = data[['kills', 'kill assists']]\n",
    "y = data['win']\n",
    "X_train, X_test, y_train, y_test = train_test_split(X,y, test_size=0.33, random_state=101)\n",
    "logmodel = LogisticRegression(solver = 'lbfgs')\n",
    "logmodel.fit(X_train, y_train)\n",
    "predictions = logmodel.predict(X_test)\n",
    "print(classification_report(y_test,predictions))"
   ]
  },
  {
   "cell_type": "markdown",
   "metadata": {},
   "source": [
    "## Using Kills, Kill assists and Damage Dealth to determine accuracy"
   ]
  },
  {
   "cell_type": "code",
   "execution_count": 71,
   "metadata": {},
   "outputs": [
    {
     "name": "stdout",
     "output_type": "stream",
     "text": [
      "              precision    recall  f1-score   support\n",
      "\n",
      "       False       0.67      0.20      0.31        20\n",
      "        True       0.41      0.85      0.55        13\n",
      "\n",
      "    accuracy                           0.45        33\n",
      "   macro avg       0.54      0.52      0.43        33\n",
      "weighted avg       0.56      0.45      0.40        33\n",
      "\n"
     ]
    }
   ],
   "source": [
    "X = data[['kills', 'kill assists', 'total Damage Dealt']]\n",
    "y = data['win']\n",
    "X_train, X_test, y_train, y_test = train_test_split(X,y, test_size=0.33, random_state=101)\n",
    "logmodel = LogisticRegression(solver = 'lbfgs')\n",
    "logmodel.fit(X_train, y_train)\n",
    "predictions = logmodel.predict(X_test)\n",
    "print(classification_report(y_test,predictions))"
   ]
  },
  {
   "cell_type": "markdown",
   "metadata": {},
   "source": [
    "## Using Kill assists and Deaths to determine accuracy"
   ]
  },
  {
   "cell_type": "code",
   "execution_count": 61,
   "metadata": {},
   "outputs": [
    {
     "name": "stdout",
     "output_type": "stream",
     "text": [
      "              precision    recall  f1-score   support\n",
      "\n",
      "       False       0.85      0.85      0.85        20\n",
      "        True       0.77      0.77      0.77        13\n",
      "\n",
      "    accuracy                           0.82        33\n",
      "   macro avg       0.81      0.81      0.81        33\n",
      "weighted avg       0.82      0.82      0.82        33\n",
      "\n"
     ]
    }
   ],
   "source": [
    "X = data[['kill assists', 'deaths']]\n",
    "y = data['win']\n",
    "X_train, X_test, y_train, y_test = train_test_split(X,y, test_size=0.33, random_state=101)\n",
    "logmodel = LogisticRegression(solver = 'lbfgs')\n",
    "logmodel.fit(X_train, y_train)\n",
    "predictions = logmodel.predict(X_test)\n",
    "print(classification_report(y_test,predictions))"
   ]
  },
  {
   "cell_type": "markdown",
   "metadata": {},
   "source": [
    "## Using Kill assists, Deaths and total Damage Dealth to determine accuracy"
   ]
  },
  {
   "cell_type": "code",
   "execution_count": 72,
   "metadata": {},
   "outputs": [
    {
     "name": "stdout",
     "output_type": "stream",
     "text": [
      "              precision    recall  f1-score   support\n",
      "\n",
      "       False       0.80      0.80      0.80        20\n",
      "        True       0.69      0.69      0.69        13\n",
      "\n",
      "    accuracy                           0.76        33\n",
      "   macro avg       0.75      0.75      0.75        33\n",
      "weighted avg       0.76      0.76      0.76        33\n",
      "\n"
     ]
    }
   ],
   "source": [
    "X = data[['kill assists', 'deaths', 'total Damage Dealt']]\n",
    "y = data['win']\n",
    "X_train, X_test, y_train, y_test = train_test_split(X,y, test_size=0.33, random_state=101)\n",
    "logmodel = LogisticRegression(solver = 'lbfgs')\n",
    "logmodel.fit(X_train, y_train)\n",
    "predictions = logmodel.predict(X_test)\n",
    "print(classification_report(y_test,predictions))"
   ]
  },
  {
   "cell_type": "markdown",
   "metadata": {},
   "source": [
    "## Using Kills an Deaths to determine accuracy"
   ]
  },
  {
   "cell_type": "code",
   "execution_count": 62,
   "metadata": {},
   "outputs": [
    {
     "name": "stdout",
     "output_type": "stream",
     "text": [
      "              precision    recall  f1-score   support\n",
      "\n",
      "       False       0.78      0.70      0.74        20\n",
      "        True       0.60      0.69      0.64        13\n",
      "\n",
      "    accuracy                           0.70        33\n",
      "   macro avg       0.69      0.70      0.69        33\n",
      "weighted avg       0.71      0.70      0.70        33\n",
      "\n"
     ]
    }
   ],
   "source": [
    "X = data[['kills', 'deaths']]\n",
    "y = data['win']\n",
    "X_train, X_test, y_train, y_test = train_test_split(X,y, test_size=0.33, random_state=101)\n",
    "logmodel = LogisticRegression(solver = 'lbfgs')\n",
    "logmodel.fit(X_train, y_train)\n",
    "predictions = logmodel.predict(X_test)\n",
    "print(classification_report(y_test,predictions))"
   ]
  },
  {
   "cell_type": "markdown",
   "metadata": {},
   "source": [
    "## Using Kills, Deaths and total Damage Dealt to determine accuracy"
   ]
  },
  {
   "cell_type": "code",
   "execution_count": 73,
   "metadata": {},
   "outputs": [
    {
     "name": "stdout",
     "output_type": "stream",
     "text": [
      "              precision    recall  f1-score   support\n",
      "\n",
      "       False       0.72      0.65      0.68        20\n",
      "        True       0.53      0.62      0.57        13\n",
      "\n",
      "    accuracy                           0.64        33\n",
      "   macro avg       0.63      0.63      0.63        33\n",
      "weighted avg       0.65      0.64      0.64        33\n",
      "\n"
     ]
    }
   ],
   "source": [
    "X = data[['kills', 'deaths', 'total Damage Dealt']]\n",
    "y = data['win']\n",
    "X_train, X_test, y_train, y_test = train_test_split(X,y, test_size=0.33, random_state=101)\n",
    "logmodel = LogisticRegression(solver = 'lbfgs')\n",
    "logmodel.fit(X_train, y_train)\n",
    "predictions = logmodel.predict(X_test)\n",
    "print(classification_report(y_test,predictions))"
   ]
  },
  {
   "cell_type": "markdown",
   "metadata": {},
   "source": [
    "## Using Kills, Kill assists, Deaths to determine accuracy"
   ]
  },
  {
   "cell_type": "code",
   "execution_count": 48,
   "metadata": {},
   "outputs": [
    {
     "name": "stdout",
     "output_type": "stream",
     "text": [
      "              precision    recall  f1-score   support\n",
      "\n",
      "       False       0.82      0.70      0.76        20\n",
      "        True       0.62      0.77      0.69        13\n",
      "\n",
      "    accuracy                           0.73        33\n",
      "   macro avg       0.72      0.73      0.72        33\n",
      "weighted avg       0.75      0.73      0.73        33\n",
      "\n"
     ]
    }
   ],
   "source": [
    "X = data[['kills', 'kill assists', 'deaths']]\n",
    "y = data['win']\n",
    "X_train, X_test, y_train, y_test = train_test_split(X,y, test_size=0.33, random_state=101)\n",
    "logmodel = LogisticRegression(solver = 'lbfgs')\n",
    "logmodel.fit(X_train, y_train)\n",
    "predictions = logmodel.predict(X_test)\n",
    "print(classification_report(y_test,predictions))"
   ]
  },
  {
   "cell_type": "markdown",
   "metadata": {},
   "source": [
    "## Using Kills, Kill assists, Deaths and total Damage to determine accuracy"
   ]
  },
  {
   "cell_type": "code",
   "execution_count": 56,
   "metadata": {},
   "outputs": [
    {
     "name": "stdout",
     "output_type": "stream",
     "text": [
      "              precision    recall  f1-score   support\n",
      "\n",
      "       False       0.82      0.70      0.76        20\n",
      "        True       0.62      0.77      0.69        13\n",
      "\n",
      "    accuracy                           0.73        33\n",
      "   macro avg       0.72      0.73      0.72        33\n",
      "weighted avg       0.75      0.73      0.73        33\n",
      "\n"
     ]
    }
   ],
   "source": [
    "X2 = data[['kills', 'kill assists', 'deaths','total Damage Dealt']]\n",
    "y2 = data['win']\n",
    "X2_train, X2_test, y2_train, y2_test = train_test_split(X2,y2, test_size=0.33, random_state=101)\n",
    "logmodel2 = LogisticRegression(solver = 'lbfgs')\n",
    "logmodel2.fit(X2_train, y2_train)\n",
    "predictions2 = logmodel2.predict(X2_test)\n",
    "print(classification_report(y2_test,predictions2))"
   ]
  },
  {
   "cell_type": "markdown",
   "metadata": {},
   "source": [
    "## Using gold earned and first blood to determine accuracy"
   ]
  },
  {
   "cell_type": "code",
   "execution_count": 84,
   "metadata": {},
   "outputs": [
    {
     "name": "stdout",
     "output_type": "stream",
     "text": [
      "              precision    recall  f1-score   support\n",
      "\n",
      "       False       0.57      0.40      0.47        20\n",
      "        True       0.37      0.54      0.44        13\n",
      "\n",
      "    accuracy                           0.45        33\n",
      "   macro avg       0.47      0.47      0.45        33\n",
      "weighted avg       0.49      0.45      0.46        33\n",
      "\n"
     ]
    }
   ],
   "source": [
    "X3 = data[[ 'gold earned', 'first blood']]\n",
    "y3 = data['win']\n",
    "X3_train, X3_test, y3_train, y3_test = train_test_split(X3,y3, test_size=0.33, random_state=101)\n",
    "logmodel3 = LogisticRegression(solver = 'lbfgs')\n",
    "logmodel3.fit(X3_train, y3_train)\n",
    "predictions3 = logmodel3.predict(X3_test)\n",
    "print(classification_report(y3_test,predictions3))"
   ]
  },
  {
   "cell_type": "markdown",
   "metadata": {},
   "source": [
    "## Using first blood, dragon kills and game duration to determine accuracy"
   ]
  },
  {
   "cell_type": "code",
   "execution_count": 93,
   "metadata": {},
   "outputs": [
    {
     "name": "stdout",
     "output_type": "stream",
     "text": [
      "              precision    recall  f1-score   support\n",
      "\n",
      "       False       1.00      0.35      0.52        20\n",
      "        True       0.50      1.00      0.67        13\n",
      "\n",
      "    accuracy                           0.61        33\n",
      "   macro avg       0.75      0.68      0.59        33\n",
      "weighted avg       0.80      0.61      0.58        33\n",
      "\n"
     ]
    }
   ],
   "source": [
    "X3 = data[['first blood', 'dragon kills', 'game duration']]\n",
    "y3 = data['win']\n",
    "X3_train, X3_test, y3_train, y3_test = train_test_split(X3,y3, test_size=0.33, random_state=101)\n",
    "logmodel3 = LogisticRegression(solver = 'lbfgs')\n",
    "logmodel3.fit(X3_train, y3_train)\n",
    "predictions3 = logmodel3.predict(X3_test)\n",
    "print(classification_report(y3_test,predictions3))"
   ]
  },
  {
   "cell_type": "markdown",
   "metadata": {},
   "source": [
    "## Using gold earned, dragon kills and game duration to determine accuracy"
   ]
  },
  {
   "cell_type": "code",
   "execution_count": 97,
   "metadata": {},
   "outputs": [
    {
     "name": "stdout",
     "output_type": "stream",
     "text": [
      "              precision    recall  f1-score   support\n",
      "\n",
      "       False       0.88      0.35      0.50        20\n",
      "        True       0.48      0.92      0.63        13\n",
      "\n",
      "    accuracy                           0.58        33\n",
      "   macro avg       0.68      0.64      0.57        33\n",
      "weighted avg       0.72      0.58      0.55        33\n",
      "\n"
     ]
    }
   ],
   "source": [
    "X3 = data[[ 'gold earned', 'dragon kills', 'game duration']]\n",
    "y3 = data['win']\n",
    "X3_train, X3_test, y3_train, y3_test = train_test_split(X3,y3, test_size=0.33, random_state=101)\n",
    "logmodel3 = LogisticRegression(solver = 'lbfgs')\n",
    "logmodel3.fit(X3_train, y3_train)\n",
    "predictions3 = logmodel3.predict(X3_test)\n",
    "print(classification_report(y3_test,predictions3))"
   ]
  },
  {
   "cell_type": "markdown",
   "metadata": {},
   "source": [
    "##  Using gold earned, first blood, dragon kills and game Duration to determine accuracy"
   ]
  },
  {
   "cell_type": "code",
   "execution_count": 98,
   "metadata": {},
   "outputs": [
    {
     "name": "stdout",
     "output_type": "stream",
     "text": [
      "              precision    recall  f1-score   support\n",
      "\n",
      "       False       0.88      0.35      0.50        20\n",
      "        True       0.48      0.92      0.63        13\n",
      "\n",
      "    accuracy                           0.58        33\n",
      "   macro avg       0.68      0.64      0.57        33\n",
      "weighted avg       0.72      0.58      0.55        33\n",
      "\n"
     ]
    }
   ],
   "source": [
    "X3 = data[[ 'gold earned', 'first blood', 'dragon kills', 'game duration']]\n",
    "y3 = data['win']\n",
    "X3_train, X3_test, y3_train, y3_test = train_test_split(X3,y3, test_size=0.33, random_state=101)\n",
    "logmodel3 = LogisticRegression(solver = 'lbfgs')\n",
    "logmodel3.fit(X3_train, y3_train)\n",
    "predictions3 = logmodel3.predict(X3_test)\n",
    "print(classification_report(y3_test,predictions3))"
   ]
  },
  {
   "cell_type": "markdown",
   "metadata": {},
   "source": [
    "##  Using Kills, gold earned, first blood, dragon kills and game Duration to determine accuracy"
   ]
  },
  {
   "cell_type": "code",
   "execution_count": 100,
   "metadata": {},
   "outputs": [
    {
     "name": "stdout",
     "output_type": "stream",
     "text": [
      "              precision    recall  f1-score   support\n",
      "\n",
      "       False       0.86      0.60      0.71        20\n",
      "        True       0.58      0.85      0.69        13\n",
      "\n",
      "    accuracy                           0.70        33\n",
      "   macro avg       0.72      0.72      0.70        33\n",
      "weighted avg       0.75      0.70      0.70        33\n",
      "\n"
     ]
    }
   ],
   "source": [
    "X3 = data[['kills', 'gold earned', 'first blood', 'dragon kills', 'game duration']]\n",
    "y3 = data['win']\n",
    "X3_train, X3_test, y3_train, y3_test = train_test_split(X3,y3, test_size=0.33, random_state=101)\n",
    "logmodel3 = LogisticRegression(solver = 'lbfgs')\n",
    "logmodel3.fit(X3_train, y3_train)\n",
    "predictions3 = logmodel3.predict(X3_test)\n",
    "print(classification_report(y3_test,predictions3))"
   ]
  },
  {
   "cell_type": "markdown",
   "metadata": {},
   "source": [
    "##  Using Kill assists, gold earned, first blood, dragon kills and game Duration to determine accuracy"
   ]
  },
  {
   "cell_type": "code",
   "execution_count": 76,
   "metadata": {},
   "outputs": [
    {
     "name": "stdout",
     "output_type": "stream",
     "text": [
      "              precision    recall  f1-score   support\n",
      "\n",
      "       False       0.86      0.60      0.71        20\n",
      "        True       0.58      0.85      0.69        13\n",
      "\n",
      "    accuracy                           0.70        33\n",
      "   macro avg       0.72      0.72      0.70        33\n",
      "weighted avg       0.75      0.70      0.70        33\n",
      "\n"
     ]
    }
   ],
   "source": [
    "X3 = data[['kill assists' , 'gold earned', 'first blood', 'dragon kills', 'game duration']]\n",
    "y3 = data['win']\n",
    "X3_train, X3_test, y3_train, y3_test = train_test_split(X3,y3, test_size=0.33, random_state=101)\n",
    "logmodel3 = LogisticRegression(solver = 'lbfgs')\n",
    "logmodel3.fit(X3_train, y3_train)\n",
    "predictions3 = logmodel3.predict(X3_test)\n",
    "print(classification_report(y3_test,predictions3))"
   ]
  },
  {
   "cell_type": "markdown",
   "metadata": {},
   "source": [
    "##  Using Deaths, gold earned, first blood, dragon kills and game Duration to determine accuracy"
   ]
  },
  {
   "cell_type": "code",
   "execution_count": 118,
   "metadata": {},
   "outputs": [
    {
     "name": "stdout",
     "output_type": "stream",
     "text": [
      "              precision    recall  f1-score   support\n",
      "\n",
      "       False       0.79      0.55      0.65        20\n",
      "        True       0.53      0.77      0.62        13\n",
      "\n",
      "    accuracy                           0.64        33\n",
      "   macro avg       0.66      0.66      0.64        33\n",
      "weighted avg       0.68      0.64      0.64        33\n",
      "\n"
     ]
    }
   ],
   "source": [
    "X3 = data[['deaths' , 'gold earned', 'first blood', 'dragon kills', 'game duration']]\n",
    "y3 = data['win']\n",
    "X3_train, X3_test, y3_train, y3_test = train_test_split(X3,y3, test_size=0.33, random_state=101)\n",
    "logmodel3 = LogisticRegression(solver = 'lbfgs')\n",
    "logmodel3.fit(X3_train, y3_train)\n",
    "predictions3 = logmodel3.predict(X3_test)\n",
    "print(classification_report(y3_test,predictions3))"
   ]
  },
  {
   "cell_type": "markdown",
   "metadata": {},
   "source": [
    "## Using Inhib kills and Turret kills to determine accuracy"
   ]
  },
  {
   "cell_type": "code",
   "execution_count": 53,
   "metadata": {},
   "outputs": [
    {
     "name": "stdout",
     "output_type": "stream",
     "text": [
      "              precision    recall  f1-score   support\n",
      "\n",
      "       False       0.75      0.60      0.67        20\n",
      "        True       0.53      0.69      0.60        13\n",
      "\n",
      "    accuracy                           0.64        33\n",
      "   macro avg       0.64      0.65      0.63        33\n",
      "weighted avg       0.66      0.64      0.64        33\n",
      "\n"
     ]
    }
   ],
   "source": [
    "X4 = data[['inhibitor kills', 'turret kills']]\n",
    "y4 = data['win']\n",
    "X4_train, X4_test, y4_train, y4_test = train_test_split(X4,y4, test_size=0.33, random_state=101)\n",
    "logmodel4 = LogisticRegression(solver = 'lbfgs')\n",
    "logmodel4.fit(X4_train, y4_train)\n",
    "predictions4 = logmodel4.predict(X4_test)\n",
    "print(classification_report(y4_test,predictions4))"
   ]
  },
  {
   "cell_type": "markdown",
   "metadata": {},
   "source": [
    "## Using Kills, Inhib kills and Turret kills to determine accuracy"
   ]
  },
  {
   "cell_type": "code",
   "execution_count": 80,
   "metadata": {},
   "outputs": [
    {
     "name": "stdout",
     "output_type": "stream",
     "text": [
      "              precision    recall  f1-score   support\n",
      "\n",
      "       False       0.75      0.60      0.67        20\n",
      "        True       0.53      0.69      0.60        13\n",
      "\n",
      "    accuracy                           0.64        33\n",
      "   macro avg       0.64      0.65      0.63        33\n",
      "weighted avg       0.66      0.64      0.64        33\n",
      "\n"
     ]
    }
   ],
   "source": [
    "X4 = data[['kills' , 'inhibitor kills', 'turret kills']]\n",
    "y4 = data['win']\n",
    "X4_train, X4_test, y4_train, y4_test = train_test_split(X4,y4, test_size=0.33, random_state=101)\n",
    "logmodel4 = LogisticRegression(solver = 'lbfgs')\n",
    "logmodel4.fit(X4_train, y4_train)\n",
    "predictions4 = logmodel4.predict(X4_test)\n",
    "print(classification_report(y4_test,predictions4))"
   ]
  },
  {
   "cell_type": "markdown",
   "metadata": {},
   "source": [
    "## Using Kill assist, Inhib kills and Turret kills to determine accuracy"
   ]
  },
  {
   "cell_type": "code",
   "execution_count": 82,
   "metadata": {},
   "outputs": [
    {
     "name": "stdout",
     "output_type": "stream",
     "text": [
      "              precision    recall  f1-score   support\n",
      "\n",
      "       False       0.73      0.55      0.63        20\n",
      "        True       0.50      0.69      0.58        13\n",
      "\n",
      "    accuracy                           0.61        33\n",
      "   macro avg       0.62      0.62      0.60        33\n",
      "weighted avg       0.64      0.61      0.61        33\n",
      "\n"
     ]
    }
   ],
   "source": [
    "X4 = data[['kill assists', 'inhibitor kills', 'turret kills']]\n",
    "y4 = data['win']\n",
    "X4_train, X4_test, y4_train, y4_test = train_test_split(X4,y4, test_size=0.33, random_state=101)\n",
    "logmodel4 = LogisticRegression(solver = 'lbfgs')\n",
    "logmodel4.fit(X4_train, y4_train)\n",
    "predictions4 = logmodel4.predict(X4_test)\n",
    "print(classification_report(y4_test,predictions4))"
   ]
  },
  {
   "cell_type": "markdown",
   "metadata": {},
   "source": [
    "## Using Deaths, Inhib kills and Turret kills to determine accuracy"
   ]
  },
  {
   "cell_type": "code",
   "execution_count": 83,
   "metadata": {},
   "outputs": [
    {
     "name": "stdout",
     "output_type": "stream",
     "text": [
      "              precision    recall  f1-score   support\n",
      "\n",
      "       False       0.75      0.75      0.75        20\n",
      "        True       0.62      0.62      0.62        13\n",
      "\n",
      "    accuracy                           0.70        33\n",
      "   macro avg       0.68      0.68      0.68        33\n",
      "weighted avg       0.70      0.70      0.70        33\n",
      "\n"
     ]
    }
   ],
   "source": [
    "X4 = data[['deaths', 'inhibitor kills', 'turret kills']]\n",
    "y4 = data['win']\n",
    "X4_train, X4_test, y4_train, y4_test = train_test_split(X4,y4, test_size=0.33, random_state=101)\n",
    "logmodel4 = LogisticRegression(solver = 'lbfgs')\n",
    "logmodel4.fit(X4_train, y4_train)\n",
    "predictions4 = logmodel4.predict(X4_test)\n",
    "print(classification_report(y4_test,predictions4))"
   ]
  },
  {
   "cell_type": "markdown",
   "metadata": {},
   "source": [
    "## Using total Damage Dealth, gold earned, first blood, dragon kills, game Duration, Inhib kills and Turret kills to determine accuracy"
   ]
  },
  {
   "cell_type": "code",
   "execution_count": 79,
   "metadata": {},
   "outputs": [
    {
     "name": "stdout",
     "output_type": "stream",
     "text": [
      "              precision    recall  f1-score   support\n",
      "\n",
      "       False       0.86      0.60      0.71        20\n",
      "        True       0.58      0.85      0.69        13\n",
      "\n",
      "    accuracy                           0.70        33\n",
      "   macro avg       0.72      0.72      0.70        33\n",
      "weighted avg       0.75      0.70      0.70        33\n",
      "\n"
     ]
    }
   ],
   "source": [
    "X4 = data[['total Damage Dealt' , 'inhibitor kills', 'turret kills', 'gold earned', 'first blood', 'dragon kills', 'game duration']]\n",
    "y4 = data['win']\n",
    "X4_train, X4_test, y4_train, y4_test = train_test_split(X4,y4, test_size=0.33, random_state=101)\n",
    "logmodel4 = LogisticRegression(solver = 'lbfgs')\n",
    "logmodel4.fit(X4_train, y4_train)\n",
    "predictions4 = logmodel4.predict(X4_test)\n",
    "print(classification_report(y4_test,predictions4))"
   ]
  },
  {
   "cell_type": "markdown",
   "metadata": {},
   "source": [
    "## Using everything except for Kills and Kill assist"
   ]
  },
  {
   "cell_type": "code",
   "execution_count": 54,
   "metadata": {},
   "outputs": [
    {
     "name": "stdout",
     "output_type": "stream",
     "text": [
      "              precision    recall  f1-score   support\n",
      "\n",
      "       False       0.74      0.70      0.72        20\n",
      "        True       0.57      0.62      0.59        13\n",
      "\n",
      "    accuracy                           0.67        33\n",
      "   macro avg       0.65      0.66      0.66        33\n",
      "weighted avg       0.67      0.67      0.67        33\n",
      "\n"
     ]
    }
   ],
   "source": [
    "X5 = data[['inhibitor kills', 'deaths' , 'turret kills', 'total Damage Dealt','gold earned', 'first blood', 'dragon kills', 'game duration' ]]\n",
    "y5 = data['win']\n",
    "X5_train, X5_test, y5_train, y5_test = train_test_split(X5,y5, test_size=0.33, random_state=101)\n",
    "logmodel5 = LogisticRegression(solver = 'lbfgs')\n",
    "logmodel5.fit(X5_train, y5_train)\n",
    "predictions5 = logmodel5.predict(X5_test)\n",
    "print(classification_report(y5_test,predictions5))"
   ]
  },
  {
   "cell_type": "markdown",
   "metadata": {},
   "source": [
    "# Using everything except for Kills and Deaths"
   ]
  },
  {
   "cell_type": "code",
   "execution_count": 43,
   "metadata": {},
   "outputs": [
    {
     "name": "stdout",
     "output_type": "stream",
     "text": [
      "              precision    recall  f1-score   support\n",
      "\n",
      "       False       0.86      0.60      0.71        20\n",
      "        True       0.58      0.85      0.69        13\n",
      "\n",
      "    accuracy                           0.70        33\n",
      "   macro avg       0.72      0.72      0.70        33\n",
      "weighted avg       0.75      0.70      0.70        33\n",
      "\n"
     ]
    }
   ],
   "source": [
    "X6 = data[['inhibitor kills', 'kill assists' , 'turret kills', 'total Damage Dealt','gold earned', 'first blood', 'dragon kills', 'game duration' ]]\n",
    "y6 = data['win']\n",
    "X6_train, X6_test, y6_train, y6_test = train_test_split(X6,y6, test_size=0.33, random_state=101)\n",
    "logmodel6 = LogisticRegression(solver = 'lbfgs')\n",
    "logmodel6.fit(X6_train, y6_train)\n",
    "predictions6 = logmodel6.predict(X6_test)\n",
    "print(classification_report(y6_test,predictions6))"
   ]
  },
  {
   "cell_type": "markdown",
   "metadata": {},
   "source": [
    "# Using everything except for Deaths and Kill assist"
   ]
  },
  {
   "cell_type": "code",
   "execution_count": 66,
   "metadata": {},
   "outputs": [
    {
     "name": "stdout",
     "output_type": "stream",
     "text": [
      "              precision    recall  f1-score   support\n",
      "\n",
      "       False       0.65      0.55      0.59        20\n",
      "        True       0.44      0.54      0.48        13\n",
      "\n",
      "    accuracy                           0.55        33\n",
      "   macro avg       0.54      0.54      0.54        33\n",
      "weighted avg       0.56      0.55      0.55        33\n",
      "\n"
     ]
    }
   ],
   "source": [
    "X7 = data[['inhibitor kills', 'kills' , 'turret kills', 'total Damage Dealt','gold earned', 'first blood', 'dragon kills', 'game duration' ]]\n",
    "y7 = data['win']\n",
    "X7_train, X7_test, y7_train, y7_test = train_test_split(X7,y7, test_size=0.33, random_state=101)\n",
    "logmodel7 = LogisticRegression(solver = 'lbfgs')\n",
    "logmodel7.fit(X7_train, y7_train)\n",
    "predictions7 = logmodel7.predict(X7_test)\n",
    "print(classification_report(y7_test,predictions7))"
   ]
  },
  {
   "cell_type": "markdown",
   "metadata": {},
   "source": [
    "## Using everything"
   ]
  },
  {
   "cell_type": "code",
   "execution_count": 68,
   "metadata": {},
   "outputs": [
    {
     "name": "stdout",
     "output_type": "stream",
     "text": [
      "              precision    recall  f1-score   support\n",
      "\n",
      "       False       0.78      0.70      0.74        20\n",
      "        True       0.60      0.69      0.64        13\n",
      "\n",
      "    accuracy                           0.70        33\n",
      "   macro avg       0.69      0.70      0.69        33\n",
      "weighted avg       0.71      0.70      0.70        33\n",
      "\n"
     ]
    }
   ],
   "source": [
    "X8 = data[['inhibitor kills', 'kills', 'kill assists', 'deaths' , 'turret kills', 'total Damage Dealt','gold earned', 'first blood', 'dragon kills', 'game duration' ]]\n",
    "y8 = data['win']\n",
    "X8_train, X8_test, y8_train, y8_test = train_test_split(X8,y8, test_size=0.33, random_state=101)\n",
    "logmodel8 = LogisticRegression(solver = 'lbfgs')\n",
    "logmodel8.fit(X8_train, y8_train)\n",
    "predictions8 = logmodel8.predict(X8_test)\n",
    "print(classification_report(y8_test,predictions8))"
   ]
  },
  {
   "cell_type": "markdown",
   "metadata": {},
   "source": [
    "## Looking for highest possible accuracy"
   ]
  },
  {
   "cell_type": "code",
   "execution_count": 120,
   "metadata": {},
   "outputs": [
    {
     "name": "stdout",
     "output_type": "stream",
     "text": [
      "              precision    recall  f1-score   support\n",
      "\n",
      "       False       0.94      0.85      0.89        20\n",
      "        True       0.80      0.92      0.86        13\n",
      "\n",
      "    accuracy                           0.88        33\n",
      "   macro avg       0.87      0.89      0.88        33\n",
      "weighted avg       0.89      0.88      0.88        33\n",
      "\n"
     ]
    }
   ],
   "source": [
    "X8 = data[['kill assists', 'deaths', 'game duration', 'turret kills', 'inhibitor kills','dragon kills' ]]\n",
    "y8 = data['win']\n",
    "X8_train, X8_test, y8_train, y8_test = train_test_split(X8,y8, test_size=0.33, random_state=101)\n",
    "logmodel8 = LogisticRegression(solver = 'lbfgs')\n",
    "logmodel8.fit(X8_train, y8_train)\n",
    "predictions8 = logmodel8.predict(X8_test)\n",
    "print(classification_report(y8_test,predictions8))"
   ]
  },
  {
   "cell_type": "markdown",
   "metadata": {},
   "source": [
    "| Kills | Kill Assists | Deaths | Damage dealt | gold earned | first blood | dragon kills | game duration | turret kills | Inhib kills | Lose | Win |Accuracy |\n",
    "| --- | --- | --- | --- | --- | --- | --- | --- | --- | --- | --- | --- | --- |\n",
    "| ✓ | ✓ |  |  |  |  |  |  |  |  | 0.62 | 0.41 | 0.52 |\n",
    "| ✓ | ✓ |  | ✓ |  |  |  |  |  |  | 0.67 | 0.41 | 0.45 |\n",
    "|  | ✓ | ✓ |  | |  |  |  |  |  | 0.85 | 0.77 | 0.82 |\n",
    "|  | ✓ | ✓ | ✓ | |  |  |  |  |  | 0.80 | 0.69 | 0.76 |\n",
    "| ✓ |  | ✓ |  |  |  |  |  |  |  | 0.78 | 0.60 | 0.70 |\n",
    "| ✓ |  | ✓ | ✓ |  |  |  |  |  |  | 0.72 | 0.53 | 0.64 |\n",
    "| ✓ | ✓ | ✓ |  |  |  |  |  |  |  | 0.82 | 0.62 | 0.73 |\n",
    "| ✓ | ✓ | ✓ | ✓ |  |  | |  |  |  | 0.82 | 0.62 | 0.73 |\n",
    "|  |  |  |  | ✓ | ✓ |  |  |  |  | 0.57 | 0.37 | 0.45 |\n",
    "|  |  |  |  |  | ✓ | ✓ | ✓ |  |  | 1.00 | 0.50 | 0.61 |\n",
    "|  |  |  |  | ✓ |  | ✓ | ✓ |  |  | 0.88 | 0.48 | 0.58 |\n",
    "|  |  |  |  | ✓ | ✓ | ✓ | ✓ |  |  | 0.88 | 0.48 | 0.58 |\n",
    "| ✓ |  |  |  | ✓ | ✓ | ✓ | ✓ |  |  | 0.86 | 0.58 | 0.70 |\n",
    "|  | ✓ |  |  | ✓ | ✓ | ✓ | ✓ |  |  | 0.86 | 0.58 | 0.70 |\n",
    "|  |  | ✓ |  | ✓ | ✓ | ✓ | ✓ |  |  | 0.79 | 0.53 | 0.64 |\n",
    "|  |  |  |  |  |  |  |  | ✓ | ✓ | 0.75 | 0.53 | 0.64 |\n",
    "| ✓ |  |  |  |  |  |  |  | ✓ | ✓ | 0.75 | 0.53 | 0.64 |\n",
    "|  | ✓ |  |  |  |  |  |  | ✓ | ✓ | 0.73 | 0.50 | 0.61 |\n",
    "|  |  | ✓ |  |  |  |  |  | ✓ | ✓ | 0.75 | 0.62 | 0.70 |\n",
    "|  |  |  | ✓ | ✓ | ✓ | ✓ | ✓ | ✓ | ✓ | 0.86 | 0.58 | 0.70 |\n",
    "|  |  | ✓ | ✓ | ✓ | ✓ | ✓ | ✓ | ✓ | ✓ | 0.74 | 0.57 | 0.67 |\n",
    "|  | ✓ |  | ✓ | ✓ | ✓ | ✓ | ✓ | ✓ | ✓ | 0.86 | 0.58 | 0.70 |\n",
    "| ✓ |  |  | ✓ | ✓ | ✓ | ✓ | ✓ | ✓ | ✓ | 0.65 | 0.44 | 0.55 |\n",
    "| ✓ | ✓ | ✓ | ✓ | ✓ | ✓ | ✓ | ✓ | ✓ | ✓ | 0.78 | 0.60 | 0.70 |\n",
    "|  | ✓ | ✓ |  |  |  | ✓ | ✓ | ✓ | ✓ | 0.94 | 0.80 | 0.88 |"
   ]
  },
  {
   "cell_type": "code",
   "execution_count": null,
   "metadata": {},
   "outputs": [],
   "source": []
  }
 ],
 "metadata": {
  "kernelspec": {
   "display_name": "Python 3.7.3 64-bit",
   "language": "python",
   "name": "python37364bit8a7367d3e0d84b389ff84d4d70028bdf"
  },
  "language_info": {
   "codemirror_mode": {
    "name": "ipython",
    "version": 3
   },
   "file_extension": ".py",
   "mimetype": "text/x-python",
   "name": "python",
   "nbconvert_exporter": "python",
   "pygments_lexer": "ipython3",
   "version": "3.7.3"
  }
 },
 "nbformat": 4,
 "nbformat_minor": 2
}
