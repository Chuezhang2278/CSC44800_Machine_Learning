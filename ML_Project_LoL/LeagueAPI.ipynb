{
 "cells": [
  {
   "cell_type": "code",
   "execution_count": 1,
   "metadata": {},
   "outputs": [
    {
     "name": "stdout",
     "output_type": "stream",
     "text": [
      "{'id': '0PW5u1m9A8MlqQeyK7KAbqLHL0jZ02ZKKLPjDzc_Kg-PuS4', 'accountId': 'IRHjY5_aOEQhIEMlR7AaytoNDjfgtZmVCUSRammJm_k5oNo', 'puuid': 'OdqABu3N7uTJCY-H9MUJfJw4Q8ATsTPs7riU_aN3i3x4A8_szDoWxHcz5OfSOFE0CiSYXSP1FmUNMg', 'name': 'Desuuuuuuuuuu', 'profileIconId': 673, 'revisionDate': 1587017183000, 'summonerLevel': 82}\n"
     ]
    }
   ],
   "source": [
    "from riotwatcher import LolWatcher, ApiError\n",
    "import pandas as pd\n",
    "\n",
    "# golbal variables\n",
    "api_key = 'RGAPI-1ef34321-3440-4b77-844d-438244e36066'\n",
    "watcher = LolWatcher(api_key)\n",
    "my_region = 'na1'\n",
    "\n",
    "me = watcher.summoner.by_name(my_region, 'Desuuuuuuuuuu')\n",
    "\n",
    "latest = watcher.data_dragon.versions_for_region(my_region)['n']['champion']\n",
    "static_champ_list = watcher.data_dragon.champions(latest, False, 'en_US')\n",
    "my_matches = watcher.match.matchlist_by_account(my_region, me['accountId'])"
   ]
  },
  {
   "cell_type": "code",
   "execution_count": 5,
   "metadata": {},
   "outputs": [],
   "source": [
    "def matchHistory(num):\n",
    "\n",
    "    last_match = my_matches['matches'][num]\n",
    "    match_detail = watcher.match.by_id(my_region, last_match['gameId'])\n",
    "    participantsID = []\n",
    "    for r_name in match_detail['participantIdentities']:\n",
    "        participants = []\n",
    "        for row in match_detail['participants']:\n",
    "            if(r_name['player']['summonerName'] == \"Desuuuuuuuuuu\"):\n",
    "                p_name = {}\n",
    "                p_name['name'] = r_name['player']['summonerName']\n",
    "                p_name['time elapsed in minutes'] = match_detail['gameDuration']/60\n",
    "                participants_row = {}\n",
    "                participants_row['champion'] = row['championId']\n",
    "                participants_row['kills'] = row['stats']['kills']\n",
    "                participants_row['win'] = row['stats']['win']\n",
    "                participants_row['deaths'] = row['stats']['deaths']\n",
    "                participants_row['kill assists'] = row['stats']['assists']\n",
    "                participants_row['totalDamageDealt'] = row['stats']['totalDamageDealt']\n",
    "                participants_row['totalMinionsKilled'] = row['stats']['totalMinionsKilled']\n",
    "                participants.append(participants_row)\n",
    "                participantsID.append(p_name)\n",
    "                \n",
    "                champ_dict = {}\n",
    "                for key in static_champ_list['data']:\n",
    "                    row = static_champ_list['data'][key]\n",
    "                    champ_dict[row['key']] = row['id']\n",
    "                for row in participants:\n",
    "                    row['champion'] = champ_dict[str(row['champion'])]    \n",
    "                    \n",
    "                df = pd.DataFrame(participants)\n",
    "                dg = pd.DataFrame(participantsID)\n",
    "                \n",
    "                df_mer = pd.concat([dg,df], axis = 1, sort = False)\n",
    "                return df_mer"
   ]
  },
  {
   "cell_type": "code",
   "execution_count": 6,
   "metadata": {
    "scrolled": true
   },
   "outputs": [],
   "source": [
    "p = pd.DataFrame()\n",
    "for i in range(100):   \n",
    "    d = pd.DataFrame(data = matchHistory(i))\n",
    "    p = pd.concat([d,p])\n",
    "p.to_csv('league.csv')"
   ]
  },
  {
   "cell_type": "markdown",
   "metadata": {},
   "source": [
    "# Extra Code\n"
   ]
  },
  {
   "cell_type": "code",
   "execution_count": 13,
   "metadata": {},
   "outputs": [
    {
     "data": {
      "text/html": [
       "<div>\n",
       "<style scoped>\n",
       "    .dataframe tbody tr th:only-of-type {\n",
       "        vertical-align: middle;\n",
       "    }\n",
       "\n",
       "    .dataframe tbody tr th {\n",
       "        vertical-align: top;\n",
       "    }\n",
       "\n",
       "    .dataframe thead th {\n",
       "        text-align: right;\n",
       "    }\n",
       "</style>\n",
       "<table border=\"1\" class=\"dataframe\">\n",
       "  <thead>\n",
       "    <tr style=\"text-align: right;\">\n",
       "      <th></th>\n",
       "      <th>Unnamed: 0</th>\n",
       "      <th>name</th>\n",
       "      <th>time elapsed in minutes</th>\n",
       "      <th>champion</th>\n",
       "      <th>deaths</th>\n",
       "      <th>kill assists</th>\n",
       "      <th>kills</th>\n",
       "      <th>totalDamageDealt</th>\n",
       "      <th>totalMinionsKilled</th>\n",
       "      <th>win</th>\n",
       "    </tr>\n",
       "  </thead>\n",
       "  <tbody>\n",
       "    <tr>\n",
       "      <th>0</th>\n",
       "      <td>0</td>\n",
       "      <td>Desuuuuuuuuuu</td>\n",
       "      <td>16.050000</td>\n",
       "      <td>Nasus</td>\n",
       "      <td>7</td>\n",
       "      <td>6</td>\n",
       "      <td>6</td>\n",
       "      <td>83681</td>\n",
       "      <td>79</td>\n",
       "      <td>False</td>\n",
       "    </tr>\n",
       "    <tr>\n",
       "      <th>1</th>\n",
       "      <td>0</td>\n",
       "      <td>Desuuuuuuuuuu</td>\n",
       "      <td>18.433333</td>\n",
       "      <td>Brand</td>\n",
       "      <td>8</td>\n",
       "      <td>10</td>\n",
       "      <td>30</td>\n",
       "      <td>108036</td>\n",
       "      <td>71</td>\n",
       "      <td>True</td>\n",
       "    </tr>\n",
       "    <tr>\n",
       "      <th>2</th>\n",
       "      <td>0</td>\n",
       "      <td>Desuuuuuuuuuu</td>\n",
       "      <td>25.916667</td>\n",
       "      <td>Shyvana</td>\n",
       "      <td>10</td>\n",
       "      <td>19</td>\n",
       "      <td>29</td>\n",
       "      <td>354330</td>\n",
       "      <td>244</td>\n",
       "      <td>True</td>\n",
       "    </tr>\n",
       "    <tr>\n",
       "      <th>3</th>\n",
       "      <td>0</td>\n",
       "      <td>Desuuuuuuuuuu</td>\n",
       "      <td>15.100000</td>\n",
       "      <td>Ryze</td>\n",
       "      <td>6</td>\n",
       "      <td>3</td>\n",
       "      <td>5</td>\n",
       "      <td>69239</td>\n",
       "      <td>96</td>\n",
       "      <td>False</td>\n",
       "    </tr>\n",
       "    <tr>\n",
       "      <th>4</th>\n",
       "      <td>0</td>\n",
       "      <td>Desuuuuuuuuuu</td>\n",
       "      <td>24.950000</td>\n",
       "      <td>Azir</td>\n",
       "      <td>16</td>\n",
       "      <td>7</td>\n",
       "      <td>19</td>\n",
       "      <td>161101</td>\n",
       "      <td>144</td>\n",
       "      <td>False</td>\n",
       "    </tr>\n",
       "  </tbody>\n",
       "</table>\n",
       "</div>"
      ],
      "text/plain": [
       "   Unnamed: 0           name  time elapsed in minutes champion  deaths  \\\n",
       "0           0  Desuuuuuuuuuu                16.050000    Nasus       7   \n",
       "1           0  Desuuuuuuuuuu                18.433333    Brand       8   \n",
       "2           0  Desuuuuuuuuuu                25.916667  Shyvana      10   \n",
       "3           0  Desuuuuuuuuuu                15.100000     Ryze       6   \n",
       "4           0  Desuuuuuuuuuu                24.950000     Azir      16   \n",
       "\n",
       "   kill assists  kills  totalDamageDealt  totalMinionsKilled    win  \n",
       "0             6      6             83681                  79  False  \n",
       "1            10     30            108036                  71   True  \n",
       "2            19     29            354330                 244   True  \n",
       "3             3      5             69239                  96  False  \n",
       "4             7     19            161101                 144  False  "
      ]
     },
     "execution_count": 13,
     "metadata": {},
     "output_type": "execute_result"
    }
   ],
   "source": [
    "%matplotlib inline\n",
    "import matplotlib.pyplot as plt\n",
    "import seaborn as sns\n",
    "data = pd.read_csv('league.csv')\n",
    "data.head()"
   ]
  },
  {
   "cell_type": "code",
   "execution_count": 18,
   "metadata": {},
   "outputs": [
    {
     "data": {
      "text/plain": [
       "<matplotlib.axes._subplots.AxesSubplot at 0x174612b7a58>"
      ]
     },
     "execution_count": 18,
     "metadata": {},
     "output_type": "execute_result"
    },
    {
     "data": {
      "image/png": "[encoded data removed]",
      "text/plain": [
       "<Figure size 720x720 with 2 Axes>"
      ]
     },
     "metadata": {
      "needs_background": "light"
     },
     "output_type": "display_data"
    }
   ],
   "source": [
    "fig = plt.figure(figsize=(10,10))\n",
    "sns.heatmap(data[['kills','totalDamageDealt', 'kill assists', 'deaths', 'time elapsed in minutes']].corr(),annot=True,square=True)"
   ]
  },
  {
   "cell_type": "code",
   "execution_count": 24,
   "metadata": {},
   "outputs": [],
   "source": [
    "from sklearn.model_selection import train_test_split\n",
    "X = data[['kills', 'kill assists', 'deaths']]\n",
    "y = data['win']\n",
    "X_train, X_test, y_train, y_test = train_test_split(X,y, test_size=0.33, random_state=101)"
   ]
  },
  {
   "cell_type": "code",
   "execution_count": 26,
   "metadata": {},
   "outputs": [
    {
     "name": "stderr",
     "output_type": "stream",
     "text": [
      "C:\\Users\\Chue\\Anaconda3\\lib\\site-packages\\sklearn\\linear_model\\logistic.py:432: FutureWarning: Default solver will be changed to 'lbfgs' in 0.22. Specify a solver to silence this warning.\n",
      "  FutureWarning)\n"
     ]
    },
    {
     "data": {
      "text/plain": [
       "LogisticRegression(C=1.0, class_weight=None, dual=False, fit_intercept=True,\n",
       "                   intercept_scaling=1, l1_ratio=None, max_iter=100,\n",
       "                   multi_class='warn', n_jobs=None, penalty='l2',\n",
       "                   random_state=None, solver='warn', tol=0.0001, verbose=0,\n",
       "                   warm_start=False)"
      ]
     },
     "execution_count": 26,
     "metadata": {},
     "output_type": "execute_result"
    }
   ],
   "source": [
    "from sklearn.linear_model import LogisticRegression\n",
    "logmodel = LogisticRegression()\n",
    "logmodel.fit(X_train, y_train)"
   ]
  },
  {
   "cell_type": "code",
   "execution_count": 27,
   "metadata": {},
   "outputs": [],
   "source": [
    "predictions = logmodel.predict(X_test)"
   ]
  },
  {
   "cell_type": "code",
   "execution_count": 28,
   "metadata": {},
   "outputs": [
    {
     "name": "stdout",
     "output_type": "stream",
     "text": [
      "              precision    recall  f1-score   support\n",
      "\n",
      "       False       0.86      0.75      0.80        16\n",
      "        True       0.79      0.88      0.83        17\n",
      "\n",
      "    accuracy                           0.82        33\n",
      "   macro avg       0.82      0.82      0.82        33\n",
      "weighted avg       0.82      0.82      0.82        33\n",
      "\n"
     ]
    }
   ],
   "source": [
    "from sklearn.metrics import classification_report\n",
    "print(classification_report(y_test,predictions))"
   ]
  }
 ],
 "metadata": {
  "kernelspec": {
   "display_name": "Python 3.7.3 64-bit",
   "language": "python",
   "name": "python37364bit8a7367d3e0d84b389ff84d4d70028bdf"
  },
  "language_info": {
   "codemirror_mode": {
    "name": "ipython",
    "version": 3
   },
   "file_extension": ".py",
   "mimetype": "text/x-python",
   "name": "python",
   "nbconvert_exporter": "python",
   "pygments_lexer": "ipython3",
   "version": "3.7.3"
  }
 },
 "nbformat": 4,
 "nbformat_minor": 2
}
